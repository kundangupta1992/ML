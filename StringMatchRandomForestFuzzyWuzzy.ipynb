{
 "cells": [
  {
   "cell_type": "markdown",
   "metadata": {},
   "source": [
    "# Importing the library"
   ]
  },
  {
   "cell_type": "code",
   "execution_count": 1,
   "metadata": {},
   "outputs": [
    {
     "name": "stderr",
     "output_type": "stream",
     "text": [
      "C:\\Users\\k050kgu\\Anaconda3\\lib\\site-packages\\fuzzywuzzy\\fuzz.py:11: UserWarning: Using slow pure-python SequenceMatcher. Install python-Levenshtein to remove this warning\n",
      "  warnings.warn('Using slow pure-python SequenceMatcher. Install python-Levenshtein to remove this warning')\n"
     ]
    }
   ],
   "source": [
    "import numpy as np\n",
    "import pandas as pd\n",
    "import matplotlib.pyplot as plt\n",
    "from fuzzywuzzy import fuzz,process\n"
   ]
  },
  {
   "cell_type": "markdown",
   "metadata": {},
   "source": [
    "# Importing the excel"
   ]
  },
  {
   "cell_type": "code",
   "execution_count": 2,
   "metadata": {},
   "outputs": [
    {
     "data": {
      "text/html": [
       "<div>\n",
       "<style scoped>\n",
       "    .dataframe tbody tr th:only-of-type {\n",
       "        vertical-align: middle;\n",
       "    }\n",
       "\n",
       "    .dataframe tbody tr th {\n",
       "        vertical-align: top;\n",
       "    }\n",
       "\n",
       "    .dataframe thead th {\n",
       "        text-align: right;\n",
       "    }\n",
       "</style>\n",
       "<table border=\"1\" class=\"dataframe\">\n",
       "  <thead>\n",
       "    <tr style=\"text-align: right;\">\n",
       "      <th></th>\n",
       "      <th>PARTY_ID_1</th>\n",
       "      <th>FIRSTNAME_1</th>\n",
       "      <th>LASTNAME_1</th>\n",
       "      <th>MOBILE_1</th>\n",
       "      <th>PRIVATE_1</th>\n",
       "      <th>WORK_1</th>\n",
       "      <th>ELECTRONIC_ADDRESS_1</th>\n",
       "      <th>ST_ADDRESS_LINE_1</th>\n",
       "      <th>ST_CITY_1</th>\n",
       "      <th>ST_POSTAL_CODE_1</th>\n",
       "      <th>...</th>\n",
       "      <th>FIRSTNAME_2</th>\n",
       "      <th>LASTNAME_2</th>\n",
       "      <th>MOBILE_2</th>\n",
       "      <th>PRIVATE_2</th>\n",
       "      <th>WORK_2</th>\n",
       "      <th>ELECTRONIC_ADDRESS_2</th>\n",
       "      <th>ST_ADDRESS_LINE_2</th>\n",
       "      <th>ST_CITY_2</th>\n",
       "      <th>ST_POSTAL_CODE_2</th>\n",
       "      <th>Match</th>\n",
       "    </tr>\n",
       "  </thead>\n",
       "  <tbody>\n",
       "    <tr>\n",
       "      <th>0</th>\n",
       "      <td>10030517</td>\n",
       "      <td>LISS</td>\n",
       "      <td>ØSTIGÅRD</td>\n",
       "      <td>93866445</td>\n",
       "      <td>9.38664e+07</td>\n",
       "      <td>9.38664e+07</td>\n",
       "      <td>$$$$$$</td>\n",
       "      <td></td>\n",
       "      <td>MIDSUND</td>\n",
       "      <td>6475</td>\n",
       "      <td>...</td>\n",
       "      <td>LISS</td>\n",
       "      <td>RAKVÅG ØSTIGÅRD</td>\n",
       "      <td>93866445</td>\n",
       "      <td>9.38664e+07</td>\n",
       "      <td>9.38664e+07</td>\n",
       "      <td>BLOMSTERBUTIKKEN.LISS@GMAIL.COM</td>\n",
       "      <td>STØLHAUGVEGEN 3</td>\n",
       "      <td>MIDSUND</td>\n",
       "      <td>6475</td>\n",
       "      <td>1</td>\n",
       "    </tr>\n",
       "    <tr>\n",
       "      <th>1</th>\n",
       "      <td>10113433</td>\n",
       "      <td>MARIUS</td>\n",
       "      <td>FAALE</td>\n",
       "      <td>93268609</td>\n",
       "      <td></td>\n",
       "      <td></td>\n",
       "      <td>$$$$$$</td>\n",
       "      <td></td>\n",
       "      <td></td>\n",
       "      <td></td>\n",
       "      <td>...</td>\n",
       "      <td>MARIUS</td>\n",
       "      <td>FAALE</td>\n",
       "      <td>93268609</td>\n",
       "      <td></td>\n",
       "      <td></td>\n",
       "      <td>§§§§§§</td>\n",
       "      <td></td>\n",
       "      <td></td>\n",
       "      <td></td>\n",
       "      <td>1</td>\n",
       "    </tr>\n",
       "  </tbody>\n",
       "</table>\n",
       "<p>2 rows × 21 columns</p>\n",
       "</div>"
      ],
      "text/plain": [
       "   PARTY_ID_1 FIRSTNAME_1 LASTNAME_1  MOBILE_1    PRIVATE_1       WORK_1  \\\n",
       "0    10030517        LISS   ØSTIGÅRD  93866445  9.38664e+07  9.38664e+07   \n",
       "1    10113433      MARIUS      FAALE  93268609                             \n",
       "\n",
       "  ELECTRONIC_ADDRESS_1 ST_ADDRESS_LINE_1 ST_CITY_1 ST_POSTAL_CODE_1  ...  \\\n",
       "0               $$$$$$                     MIDSUND             6475  ...   \n",
       "1               $$$$$$                                               ...   \n",
       "\n",
       "   FIRSTNAME_2       LASTNAME_2  MOBILE_2    PRIVATE_2       WORK_2  \\\n",
       "0         LISS  RAKVÅG ØSTIGÅRD  93866445  9.38664e+07  9.38664e+07   \n",
       "1       MARIUS            FAALE  93268609                             \n",
       "\n",
       "              ELECTRONIC_ADDRESS_2 ST_ADDRESS_LINE_2 ST_CITY_2  \\\n",
       "0  BLOMSTERBUTIKKEN.LISS@GMAIL.COM   STØLHAUGVEGEN 3   MIDSUND   \n",
       "1                           §§§§§§                               \n",
       "\n",
       "  ST_POSTAL_CODE_2 Match  \n",
       "0             6475     1  \n",
       "1                      1  \n",
       "\n",
       "[2 rows x 21 columns]"
      ]
     },
     "execution_count": 2,
     "metadata": {},
     "output_type": "execute_result"
    }
   ],
   "source": [
    "df= pd.read_excel('MatchPairs.xlsx', sheet_name='Sheet2')\n",
    "df = df.replace(np.nan, '', regex=True)\n",
    "df.head(2)"
   ]
  },
  {
   "cell_type": "markdown",
   "metadata": {},
   "source": [
    "# Levenshtein Distance FUnction"
   ]
  },
  {
   "cell_type": "code",
   "execution_count": 3,
   "metadata": {},
   "outputs": [],
   "source": [
    "def levenshtein(seq1, seq2):\n",
    "    size_x = len(seq1) + 1\n",
    "    size_y = len(seq2) + 1\n",
    "    matrix = np.zeros ((size_x, size_y))\n",
    "  \n",
    "    for x in range(size_x):\n",
    "        matrix [x, 0] = x\n",
    "    for y in range(size_y):\n",
    "        matrix [0, y] = y\n",
    "        \n",
    "    \n",
    "\n",
    "    for x in range(1, size_x):\n",
    "        for y in range(1, size_y):\n",
    "            if seq1[x-1] == seq2[y-1]:\n",
    "                matrix [x,y] = min(\n",
    "                    matrix[x-1, y] + 1,\n",
    "                    matrix[x-1, y-1],\n",
    "                    matrix[x, y-1] + 1\n",
    "                )\n",
    "            else:\n",
    "                matrix [x,y] = min(\n",
    "                    matrix[x-1,y] + 1,\n",
    "                    matrix[x-1,y-1] + 1,\n",
    "                    matrix[x,y-1] + 1\n",
    "                )\n",
    "    return (matrix[size_x - 1, size_y - 1])"
   ]
  },
  {
   "cell_type": "code",
   "execution_count": 4,
   "metadata": {},
   "outputs": [
    {
     "name": "stdout",
     "output_type": "stream",
     "text": [
      "6.0\n"
     ]
    }
   ],
   "source": [
    "print(levenshtein(\"oldKundan\",\"Kundanold\"))"
   ]
  },
  {
   "cell_type": "code",
   "execution_count": 5,
   "metadata": {},
   "outputs": [],
   "source": [
    "def sorted_levenshtein(sequence1, sequence2):\n",
    "    product1 = ''.join(sorted(sequence1))\n",
    "    product2 = ''.join(sorted(sequence2))\n",
    "    distance = levenshtein(product1, product2)\n",
    "    return distance\n",
    "\n",
    "def levenshtein_rate(product1, product2):\n",
    "    distance = levenshtein(product1, product2)\n",
    "    max_len = max(len(product1), len(product2))\n",
    "    return 1 - (distance / max_len)\n",
    "\n",
    "def sorted_levenshtein_rate(seq1, seq2):\n",
    "    product1 = ''.join(sorted(seq1))\n",
    "    product2 = ''.join(sorted(seq2))\n",
    "    distance = levenshtein(product1, product2)\n",
    "    max_len = max(len(product1), len(product2))\n",
    "    return 1-(distance/max_len)"
   ]
  },
  {
   "cell_type": "code",
   "execution_count": 6,
   "metadata": {},
   "outputs": [],
   "source": [
    "matchScore = pd.DataFrame([])"
   ]
  },
  {
   "cell_type": "code",
   "execution_count": 7,
   "metadata": {},
   "outputs": [],
   "source": [
    "for index,row in df.iterrows():\n",
    "    matchScore = matchScore.append(pd.DataFrame({\n",
    "             'partyid1':row['PARTY_ID_1'],\n",
    "             'partyid2':row['PARTY_ID_2'],\n",
    "             #'full_name1':row['FULL_NAME_1'],\n",
    "             #'full_name2':row['FULL_NAME_2'],\n",
    "             #'nameScore':fuzz.token_set_ratio(str(row['FULL_NAME_1']).upper(),str(row['FULL_NAME_2']).upper())/100 ,\n",
    "             'first_name1':row['FIRSTNAME_1'],\n",
    "             'first_name2':row['FIRSTNAME_2'],\n",
    "             'firstnameScore':fuzz.token_set_ratio(str(row['FIRSTNAME_1']).upper(),str(row['FIRSTNAME_2']).upper())/100 ,\n",
    "            #'nameScore':sorted_levenshtein_rate(str(row['FULL_NAME_1']).upper(),str(row['FULL_NAME_2']).upper()) ,\n",
    "             'last_name1':row['LASTNAME_1'],\n",
    "             'last_name2':row['LASTNAME_2'],\n",
    "             'lastnameScore':fuzz.token_set_ratio(str(row['LASTNAME_1']).upper(),str(row['LASTNAME_2']).upper())/100 ,\n",
    "             'mobile1':row['MOBILE_1'],\n",
    "             'mobile2':row['MOBILE_2'],\n",
    "             'mobileScore': fuzz.ratio(str(row['MOBILE_1']),str(row['MOBILE_2']))/100, \n",
    "             'private1':row['PRIVATE_1'],\n",
    "             'private2':row['PRIVATE_2'],\n",
    "             'privateScore': fuzz.ratio(str(row['PRIVATE_1']),str(row['PRIVATE_2']))/100, \n",
    "             'work1':row['WORK_1'],\n",
    "             'work2':row['WORK_2'],\n",
    "             'workScore': fuzz.ratio(str(row['WORK_1']),str(row['WORK_2']))/100, \n",
    "             'email1':row['ELECTRONIC_ADDRESS_1'],\n",
    "             'email2':row['ELECTRONIC_ADDRESS_2'],\n",
    "             'emailScore': fuzz.partial_ratio(str(row['ELECTRONIC_ADDRESS_1']).upper(),str(row['ELECTRONIC_ADDRESS_2']).upper())/100, \n",
    "             'addressLine1':row['ST_ADDRESS_LINE_1'],\n",
    "             'addressLine2':row['ST_ADDRESS_LINE_2'],\n",
    "             \n",
    "             'addressLineScore': fuzz.token_sort_ratio(str(row['ST_ADDRESS_LINE_1']).upper(),str(row['ST_ADDRESS_LINE_2']).upper())/100,\n",
    "             'city1':row['ST_CITY_1'],\n",
    "             'city2':row['ST_CITY_2'],\n",
    "             'cityScore': fuzz.partial_ratio(str(row['ST_CITY_1']).upper(),str(row['ST_CITY_2']).upper())/100,\n",
    "             'post1':row['ST_POSTAL_CODE_1'],\n",
    "             'post2':row['ST_POSTAL_CODE_2'],\n",
    "             'postScore':fuzz.ratio(str(row['ST_POSTAL_CODE_1']).upper(),str(row['ST_POSTAL_CODE_2']).upper())/100, \n",
    "              'Match':row['Match']\n",
    "            },index=[0]), ignore_index=True)\n"
   ]
  },
  {
   "cell_type": "code",
   "execution_count": 8,
   "metadata": {},
   "outputs": [],
   "source": [
    "matchScore.to_excel('MatchResults7.xlsx')"
   ]
  },
  {
   "cell_type": "code",
   "execution_count": 9,
   "metadata": {},
   "outputs": [],
   "source": [
    "df_reg=matchScore[['firstnameScore','lastnameScore','mobileScore','privateScore','workScore','emailScore','addressLineScore','cityScore','postScore','Match']]\n",
    "#df_regShow=matchScore\n",
    "#df_reg=matchScore[['nameScore','mobileScore','privateScore','workScore','emailScore','addressLineScore','cityScore','postScore','Match']]\n"
   ]
  },
  {
   "cell_type": "code",
   "execution_count": 10,
   "metadata": {},
   "outputs": [],
   "source": [
    "x = df_reg.iloc[:, :-1].values\n",
    "y = df_reg.iloc[:, -1].values\n",
    "y=y.astype('int')"
   ]
  },
  {
   "cell_type": "code",
   "execution_count": 11,
   "metadata": {},
   "outputs": [],
   "source": [
    "from sklearn.model_selection import train_test_split\n",
    "X_train, X_test, y_train, y_test = train_test_split(x, y, test_size = 0.25, random_state = 0)"
   ]
  },
  {
   "cell_type": "code",
   "execution_count": 12,
   "metadata": {},
   "outputs": [
    {
     "data": {
      "text/plain": [
       "RandomForestClassifier(bootstrap=True, ccp_alpha=0.0, class_weight=None,\n",
       "                       criterion='entropy', max_depth=None, max_features='auto',\n",
       "                       max_leaf_nodes=None, max_samples=None,\n",
       "                       min_impurity_decrease=0.0, min_impurity_split=None,\n",
       "                       min_samples_leaf=1, min_samples_split=2,\n",
       "                       min_weight_fraction_leaf=0.0, n_estimators=200,\n",
       "                       n_jobs=None, oob_score=False, random_state=0, verbose=0,\n",
       "                       warm_start=False)"
      ]
     },
     "execution_count": 12,
     "metadata": {},
     "output_type": "execute_result"
    }
   ],
   "source": [
    "from sklearn.ensemble import RandomForestClassifier\n",
    "classifier = RandomForestClassifier(n_estimators = 200, criterion = 'entropy', random_state = 0)\n",
    "classifier.fit(X_train, y_train)"
   ]
  },
  {
   "cell_type": "code",
   "execution_count": 13,
   "metadata": {},
   "outputs": [],
   "source": [
    "y_pred = classifier.predict(X_test)"
   ]
  },
  {
   "cell_type": "code",
   "execution_count": 14,
   "metadata": {},
   "outputs": [
    {
     "name": "stdout",
     "output_type": "stream",
     "text": [
      "        0     1    2    3    4     5     6     7     8    9   10\n",
      "0    1.00  0.75  1.0  1.0  1.0  1.00  0.44  1.00  0.83  1.0  1.0\n",
      "1    0.22  1.00  1.0  1.0  1.0  0.00  0.00  1.00  1.00  0.0  0.0\n",
      "2    0.29  1.00  1.0  1.0  1.0  1.00  1.00  1.00  1.00  0.0  0.0\n",
      "3    0.30  1.00  1.0  0.0  0.5  1.00  0.30  0.18  0.67  0.0  0.0\n",
      "4    1.00  1.00  1.0  0.0  0.0  1.00  0.49  0.38  0.67  1.0  1.0\n",
      "..    ...   ...  ...  ...  ...   ...   ...   ...   ...  ...  ...\n",
      "114  0.25  0.20  1.0  0.0  1.0  0.00  0.31  0.31  0.67  0.0  0.0\n",
      "115  1.00  1.00  1.0  0.0  1.0  1.00  1.00  0.00  0.00  1.0  1.0\n",
      "116  1.00  1.00  1.0  0.0  0.0  0.00  0.00  0.00  0.00  1.0  1.0\n",
      "117  0.09  0.33  1.0  1.0  1.0  1.00  0.00  1.00  1.00  0.0  0.0\n",
      "118  0.34  0.20  1.0  0.4  0.0  0.53  0.64  1.00  1.00  0.0  0.0\n",
      "\n",
      "[119 rows x 11 columns]\n"
     ]
    }
   ],
   "source": [
    "#print(np.concatenate((X_test,y_pred.reshape(len(y_pred),1),y_test.reshape(len(y_test),1)),1))\n",
    "#print(np.concatenate([y_pred,y_test], axis=0)\n",
    "final = pd.DataFrame(np.concatenate((X_test,y_pred.reshape(len(y_pred),1),y_test.reshape(len(y_test),1)),1))\n",
    "print(final)\n",
    "final.to_excel('MatchResults6.xlsx')\n"
   ]
  },
  {
   "cell_type": "code",
   "execution_count": 15,
   "metadata": {},
   "outputs": [
    {
     "name": "stdout",
     "output_type": "stream",
     "text": [
      "[[59  2]\n",
      " [ 5 53]]\n",
      "              precision    recall  f1-score   support\n",
      "\n",
      "           0       0.92      0.97      0.94        61\n",
      "           1       0.96      0.91      0.94        58\n",
      "\n",
      "    accuracy                           0.94       119\n",
      "   macro avg       0.94      0.94      0.94       119\n",
      "weighted avg       0.94      0.94      0.94       119\n",
      "\n",
      "0.9411764705882353\n"
     ]
    }
   ],
   "source": [
    "from sklearn.metrics import classification_report, confusion_matrix, accuracy_score\n",
    "\n",
    "print(confusion_matrix(y_test,y_pred))\n",
    "print(classification_report(y_test,y_pred))\n",
    "print(accuracy_score(y_test, y_pred))"
   ]
  },
  {
   "cell_type": "code",
   "execution_count": 16,
   "metadata": {},
   "outputs": [
    {
     "name": "stdout",
     "output_type": "stream",
     "text": [
      "12\n",
      "0.0\n"
     ]
    }
   ],
   "source": [
    "#print(fuzz.partial_ratio('OLAV','SILJE'))\n",
    "#print(fuzz.token_set_ratio('OLAV','SILJE'))\n",
    "print(fuzz.token_sort_ratio(\"nan\",\"STØLHAUGVEGEN 3\"))\n",
    "#print(fuzz.ratio('OLAV','SILJE'))\n",
    "print(sorted_levenshtein_rate('','SILJE'))"
   ]
  },
  {
   "cell_type": "code",
   "execution_count": 17,
   "metadata": {},
   "outputs": [
    {
     "name": "stdout",
     "output_type": "stream",
     "text": [
      "[1]\n"
     ]
    }
   ],
   "source": [
    "print(classifier.predict([[fuzz.token_set_ratio('IGOR'.upper(),'IGOR'.upper())/100 ,\n",
    "                           fuzz.token_set_ratio('KICA'.upper(),'KICA'.upper())/100 ,\n",
    "                           fuzz.ratio('96824370','96824370')/100, \n",
    "                           fuzz.ratio('','')/100, \n",
    "                           fuzz.ratio('96824370','')/100, \n",
    "                           fuzz.partial_ratio('IGOR.KICA@GMAIL.COM'.upper(),'IGOR.KICA@GMAIL.COM'.upper())/100, \n",
    "                           fuzz.token_sort_ratio('LØKKAVEGEN 11 C'.upper(),'RISKOLLVEIEN 27'.upper())/100,\n",
    "                           fuzz.partial_ratio('JESSHEIM'.upper(),'ØSTERÅS'.upper())/100,\n",
    "                           fuzz.ratio('2052'.upper(),'1332'.upper())/100]]))"
   ]
  },
  {
   "cell_type": "code",
   "execution_count": 18,
   "metadata": {},
   "outputs": [
    {
     "data": {
      "text/html": [
       "<div>\n",
       "<style scoped>\n",
       "    .dataframe tbody tr th:only-of-type {\n",
       "        vertical-align: middle;\n",
       "    }\n",
       "\n",
       "    .dataframe tbody tr th {\n",
       "        vertical-align: top;\n",
       "    }\n",
       "\n",
       "    .dataframe thead th {\n",
       "        text-align: right;\n",
       "    }\n",
       "</style>\n",
       "<table border=\"1\" class=\"dataframe\">\n",
       "  <thead>\n",
       "    <tr style=\"text-align: right;\">\n",
       "      <th></th>\n",
       "      <th>Match</th>\n",
       "    </tr>\n",
       "  </thead>\n",
       "  <tbody>\n",
       "  </tbody>\n",
       "</table>\n",
       "</div>"
      ],
      "text/plain": [
       "Empty DataFrame\n",
       "Columns: [Match]\n",
       "Index: []"
      ]
     },
     "execution_count": 18,
     "metadata": {},
     "output_type": "execute_result"
    }
   ],
   "source": [
    "testDf= pd.read_excel('TestDataSet1.xlsx', sheet_name='Sheet3')\n",
    "testDf = testDf.replace(np.nan, '', regex=True)\n",
    "\n",
    "testPrediction = pd.DataFrame([])\n",
    "testPrediction[\"Match\"]= \"\"\n",
    "testPrediction.head(2)"
   ]
  },
  {
   "cell_type": "code",
   "execution_count": 19,
   "metadata": {
    "scrolled": false
   },
   "outputs": [],
   "source": [
    "for index,row in testDf.iterrows():\n",
    "  \n",
    "     #print(row['PARTY_ID_1'])\n",
    "     testPrediction = testPrediction.append(pd.DataFrame({\n",
    "             \n",
    "             'partyid1':row['PARTY_ID_1'],\n",
    "             'partyid2':row['PARTY_ID_2'],\n",
    "             #'full_name1':row['FULL_NAME_1'],\n",
    "             #'full_name2':row['FULL_NAME_2'],\n",
    "             #'nameScore':fuzz.token_set_ratio(str(row['FULL_NAME_1']).upper(),str(row['FULL_NAME_2']).upper())/100 ,\n",
    "             'first_name1':row['FIRSTNAME_1'],\n",
    "             'first_name2':row['FIRSTNAME_2'],\n",
    "             'firstnameScore':fuzz.token_set_ratio(str(row['FIRSTNAME_1']).upper(),str(row['FIRSTNAME_2']).upper())/100 ,\n",
    "            #'nameScore':sorted_levenshtein_rate(str(row['FULL_NAME_1']).upper(),str(row['FULL_NAME_2']).upper()) ,\n",
    "             'last_name1':row['LASTNAME_1'],\n",
    "             'last_name2':row['LASTNAME_2'],\n",
    "             'lastnameScore':fuzz.token_set_ratio(str(row['LASTNAME_1']).upper(),str(row['LASTNAME_2']).upper())/100 ,\n",
    "             'mobile1':row['MOBILE_1'],\n",
    "             'mobile2':row['MOBILE_2'],\n",
    "             'mobileScore': fuzz.ratio(str(row['MOBILE_1']),str(row['MOBILE_2']))/100, \n",
    "             'private1':row['PRIVATE_1'],\n",
    "             'private2':row['PRIVATE_2'],\n",
    "             'privateScore': fuzz.ratio(str(row['PRIVATE_1']),str(row['PRIVATE_2']))/100, \n",
    "             'work1':row['WORK_1'],\n",
    "             'work2':row['WORK_2'],\n",
    "             'workScore': fuzz.ratio(str(row['WORK_1']),str(row['WORK_2']))/100, \n",
    "             'email1':row['ELECTRONIC_ADDRESS_1'],\n",
    "             'email2':row['ELECTRONIC_ADDRESS_2'],\n",
    "             'emailScore': fuzz.partial_ratio(str(row['ELECTRONIC_ADDRESS_1']).upper(),str(row['ELECTRONIC_ADDRESS_2']).upper())/100, \n",
    "             'addressLine1':row['ST_ADDRESS_LINE_1'],\n",
    "             'addressLine2':row['ST_ADDRESS_LINE_2'],\n",
    "             \n",
    "             'addressLineScore': fuzz.token_sort_ratio(str(row['ST_ADDRESS_LINE_1']).upper(),str(row['ST_ADDRESS_LINE_2']).upper())/100,\n",
    "             'city1':row['ST_CITY_1'],\n",
    "             'city2':row['ST_CITY_2'],\n",
    "             'cityScore': fuzz.partial_ratio(str(row['ST_CITY_1']).upper(),str(row['ST_CITY_2']).upper())/100,\n",
    "             'post1':row['ST_POSTAL_CODE_1'],\n",
    "             'post2':row['ST_POSTAL_CODE_2'],\n",
    "             'postScore':fuzz.ratio(str(row['ST_POSTAL_CODE_1']).upper(),str(row['ST_POSTAL_CODE_2']).upper())/100, \n",
    "             'Match':classifier.predict([[\n",
    "                           fuzz.token_set_ratio(str(row['FIRSTNAME_1']).upper(),str(row['FIRSTNAME_2']).upper())/100 ,\n",
    "                           fuzz.token_set_ratio(str(row['LASTNAME_1']).upper(),str(row['LASTNAME_2']).upper())/100 ,\n",
    "                           fuzz.ratio(str(row['MOBILE_1']),str(row['MOBILE_2']))/100,  \n",
    "                           fuzz.ratio(str(row['PRIVATE_1']),str(row['PRIVATE_2']))/100, \n",
    "                           fuzz.ratio(str(row['WORK_1']),str(row['WORK_2']))/100, \n",
    "                           fuzz.partial_ratio(str(row['ELECTRONIC_ADDRESS_1']).upper(),str(row['ELECTRONIC_ADDRESS_2']).upper())/100, \n",
    "                           fuzz.token_sort_ratio(str(row['ST_ADDRESS_LINE_1']).upper(),str(row['ST_ADDRESS_LINE_2']).upper())/100,\n",
    "                           fuzz.partial_ratio(str(row['ST_CITY_1']).upper(),str(row['ST_CITY_2']).upper())/100,\n",
    "                           fuzz.ratio(str(row['ST_POSTAL_CODE_1']).upper(),str(row['ST_POSTAL_CODE_2']).upper())/100\n",
    "                              ]])\n",
    "            },index=[0]), ignore_index=True)\n",
    "    "
   ]
  },
  {
   "cell_type": "code",
   "execution_count": 20,
   "metadata": {},
   "outputs": [],
   "source": [
    "testPrediction.to_excel('TestSetPrediction.xlsx')"
   ]
  },
  {
   "cell_type": "code",
   "execution_count": null,
   "metadata": {},
   "outputs": [],
   "source": []
  }
 ],
 "metadata": {
  "kernelspec": {
   "display_name": "Python 3",
   "language": "python",
   "name": "python3"
  },
  "language_info": {
   "codemirror_mode": {
    "name": "ipython",
    "version": 3
   },
   "file_extension": ".py",
   "mimetype": "text/x-python",
   "name": "python",
   "nbconvert_exporter": "python",
   "pygments_lexer": "ipython3",
   "version": "3.7.6"
  }
 },
 "nbformat": 4,
 "nbformat_minor": 4
}
